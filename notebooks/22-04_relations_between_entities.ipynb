{
 "cells": [
  {
   "cell_type": "markdown",
   "id": "quarterly-pioneer",
   "metadata": {},
   "source": [
    "# Notebook pour mieux comprendre comment lier deux entités d'intérêt avec un parseur de dépendance"
   ]
  },
  {
   "cell_type": "code",
   "execution_count": 1,
   "id": "polar-party",
   "metadata": {},
   "outputs": [
    {
     "name": "stdout",
     "output_type": "stream",
     "text": [
      "To use RuSHSentenceTokenizer, install PyRuSH using \"pip install PyRuSH\"\n"
     ]
    }
   ],
   "source": [
    "from pprint import pprint\n",
    "from glob import glob\n",
    "import pkg_resources\n",
    "import re\n",
    "import os\n",
    "import time\n",
    "import csv\n",
    "import yaml\n",
    "import sys\n",
    "import shutil\n",
    "\n",
    "\n",
    "#from pymedext_eds.viz import display_annotations\n",
    "from pymedextcore.document import Document\n",
    "from pymedextcore.brattransform import brat\n",
    "from pymedextcore.annotators import Annotation, Annotator, Relation\n",
    "\n",
    "with open(\"config.yml\", \"r\") as ymlfile:\n",
    "    cfg = yaml.safe_load(ymlfile)\n",
    "    \n",
    "    \n",
    "\n",
    "sys.path.append(cfg[\"pymedext_dir\"])\n",
    "\n",
    "\n",
    "\n",
    "from annotators import Endlines, SentenceTokenizer, Hypothesis, \\\n",
    "                                    ATCDFamille, SyntagmeTokenizer, Negation, RegexMatcher, \\\n",
    "                                    Pipeline, SectionSplitter\n",
    "\n",
    "from annotatorsTox import QuickUMLSAnnotator, StanzaAnnotator\n",
    "\n",
    "from utils import rawtext_loader\n",
    "\n",
    "# à décommenter pour faire la deuxième partie du notebook, qui porte sur le passage d'annotations pymedext à la génération d'une ontolgie :\n",
    "# from owlready2 import *"
   ]
  },
  {
   "cell_type": "code",
   "execution_count": 2,
   "id": "potential-issue",
   "metadata": {},
   "outputs": [],
   "source": [
    "# from cleansAdminParts import *\n",
    "# from creatsBagsofAdminWords import *\n",
    "# from utils_functions import *"
   ]
  },
  {
   "cell_type": "code",
   "execution_count": 3,
   "id": "organic-photograph",
   "metadata": {},
   "outputs": [],
   "source": [
    "# à décommenter pour faire la deuxième partie du notebook, qui porte sur le passage d'annotations pymedext à la génération d'une ontolgie :\n",
    "\n",
    "# from owlready2 import *\n",
    "# default_world.set_backend(filename =\"/rapids/notebooks/host/alice_work/2021_chimioToxDict/src/pymedterminoMDRWHOFRE.sqlite3\", exclusive=False)\n",
    "# PYM = get_ontology(\"http://PYM/\").load()\n",
    "\n",
    "# MDR = PYM[\"MDR\"]\n",
    "# WHO = PYM[\"WHO\"]\n",
    "# CUI = PYM[\"CUI\"]\n",
    "# MDRFRE = PYM[\"MDRFRE\"]\n",
    "# WHOFRE = PYM[\"WHOFRE\"]"
   ]
  },
  {
   "cell_type": "code",
   "execution_count": 4,
   "id": "satisfied-deputy",
   "metadata": {},
   "outputs": [],
   "source": [
    "# CUI[\"C0004093\"].synonyms"
   ]
  },
  {
   "cell_type": "markdown",
   "id": "surprised-wagon",
   "metadata": {},
   "source": [
    "# Charger les données (sans enlever admin parts, qui est en cours de changement)"
   ]
  },
  {
   "cell_type": "code",
   "execution_count": 5,
   "id": "weird-associate",
   "metadata": {},
   "outputs": [],
   "source": [
    "data_FT = cfg[\"data\"][\"NR\"]\n",
    "file_list=os.listdir(data_FT)\n",
    "#list_text=[removesAdminParts2(\"ech_ccolon_nidocs/\" + x,starting_list_ngram, ending_list_ngram,\"ech_clean_ccolon_nidocs/\")for x in file_list]\n",
    "#print(file_list)"
   ]
  },
  {
   "cell_type": "code",
   "execution_count": 6,
   "id": "tracked-pennsylvania",
   "metadata": {},
   "outputs": [],
   "source": [
    "data_path=data_FT\n",
    "docs=[]\n",
    "for x in file_list :\n",
    "    docs.append(rawtext_loader(data_path + x))"
   ]
  },
  {
   "cell_type": "code",
   "execution_count": 7,
   "id": "bizarre-defeat",
   "metadata": {},
   "outputs": [
    {
     "data": {
      "text/plain": [
       "'2222222222'"
      ]
     },
     "execution_count": 7,
     "metadata": {},
     "output_type": "execute_result"
    }
   ],
   "source": [
    "docs[0].source_ID"
   ]
  },
  {
   "cell_type": "markdown",
   "id": "confident-insertion",
   "metadata": {},
   "source": [
    "# 1) Détection d'entités d'intérêt : Quickumls pour les toxicités et Regex pour les grades"
   ]
  },
  {
   "cell_type": "markdown",
   "id": "indian-cartoon",
   "metadata": {},
   "source": [
    "Préalablement, on a construit un fichier \"MRCONSO.RRF\" pour utiliser quickumls. (\"https://github.com/Georgetown-IR-Lab/QuickUMLS\")\n",
    "Ce fichier a été construits en filtrant les concepts de l'UMLS sur ceux qui concernent des toxicités, et en ajoutant des synonymes trouvés dans différentes sources de terminologies qui concernent les toxicités."
   ]
  },
  {
   "cell_type": "code",
   "execution_count": 8,
   "id": "collected-forestry",
   "metadata": {},
   "outputs": [],
   "source": [
    "quickumls_fp_2=cfg[\"quickumls\"]"
   ]
  },
  {
   "cell_type": "code",
   "execution_count": 9,
   "id": "alpha-investigator",
   "metadata": {},
   "outputs": [],
   "source": [
    "endlines = Endlines(['raw_text'], 'endlines', 'endlines:v1')\n",
    "sentences = SentenceTokenizer(['endlines'], 'sentence', 'sentenceTokenizer:v1')\n",
    "hypothesis = Hypothesis(['sentence'], 'hypothesis', 'hypothesis:v1')\n",
    "family = ATCDFamille(['sentence'], 'context', 'ATCDfamily:v1')\n",
    "syntagmes = SyntagmeTokenizer(['sentence'], 'syntagme', 'SyntagmeTokenizer:v1')\n",
    "negation = Negation(['syntagme', 'sentence'], 'negation', 'Negation:v1')\n",
    "quickumls = QuickUMLSAnnotator(['sentence'],'QuickUMLS', 'QuickUMLS:v1',quickumls_fp=quickumls_fp_2)\n",
    "regex_grade = RegexMatcher(['endlines', 'syntagme'], 'regex_grade', 'RegexMatcher:v1', '/rapids/notebooks/host/alice_work/clone_de_pymedext_eds/pymedext_eds/regex_grade.json')\n",
    "regex_triggers = RegexMatcher(['endlines', 'syntagme'], 'regex_triggers', 'RegexMatcher:v1', '/rapids/notebooks/host/alice_work/clone_de_pymedext_eds/pymedext_eds/regex_triggers.json')"
   ]
  },
  {
   "cell_type": "code",
   "execution_count": 10,
   "id": "analyzed-boost",
   "metadata": {},
   "outputs": [],
   "source": [
    "pipeline1 = Pipeline(pipeline = [endlines, sentences, hypothesis, family, syntagmes, negation, quickumls, regex_grade, regex_triggers])"
   ]
  },
  {
   "cell_type": "code",
   "execution_count": 11,
   "id": "atomic-workstation",
   "metadata": {},
   "outputs": [
    {
     "name": "stderr",
     "output_type": "stream",
     "text": [
      "pymedext_annotators/annotators.py:576: FutureWarning: Possible nested set at position 45\n",
      "  for m in re.finditer(rex['regexp'], syntagme.value, flags=reflags):\n"
     ]
    }
   ],
   "source": [
    "annotated_docs = pipeline1.annotate(docs)"
   ]
  },
  {
   "cell_type": "code",
   "execution_count": 12,
   "id": "popular-bandwidth",
   "metadata": {},
   "outputs": [],
   "source": [
    "annotated_pymedext_documents = [Document.from_dict(annotated_doc) for annotated_doc in annotated_docs]"
   ]
  },
  {
   "cell_type": "markdown",
   "id": "disabled-bidding",
   "metadata": {},
   "source": [
    "## Modifier l'annotation regex_grade : mettre le numéro du grade dans les attributs"
   ]
  },
  {
   "cell_type": "code",
   "execution_count": 13,
   "id": "painted-mason",
   "metadata": {},
   "outputs": [],
   "source": [
    "for thisDoc in annotated_pymedext_documents :\n",
    "    anns=thisDoc.get_annotations(_type=\"regex_grade\")\n",
    "    for ann in anns :\n",
    "        if re.search(\"([0-5]|III|IV|II|I|V)\", ann.value):\n",
    "            num = re.search(\"([0-5]|III|IV|II|I|V)\", ann.value).group(0)\n",
    "            ann.attributes[\"num\"] = num\n",
    "            if num == \"0\" :\n",
    "                ann.attributes[\"normalized_num\"] = \"0\"\n",
    "            elif num in [\"1\", \"I\"]:\n",
    "                ann.attributes[\"normalized_num\"] = \"1\"\n",
    "            elif num in [\"2\", \"II\"]:\n",
    "                ann.attributes[\"normalized_num\"] = \"2\"\n",
    "            elif num in [\"3\", \"III\"]:\n",
    "                ann.attributes[\"normalized_num\"] = \"3\"\n",
    "            elif num in [\"4\", \"IV\"]:\n",
    "                ann.attributes[\"normalized_num\"] = \"4\"\n",
    "            elif num in [\"5\", \"V\"]:\n",
    "                ann.attributes[\"normalized_num\"] = \"5\"\n",
    "            else :\n",
    "                ann.attributes[\"normalized_num\"] = \"null\"\n",
    "        else :\n",
    "            ann.attributes[\"num\"] = \"null\"\n",
    "            ann.attributes[\"normalized_num\"] = \"null\""
   ]
  },
  {
   "cell_type": "markdown",
   "id": "sealed-neutral",
   "metadata": {},
   "source": [
    "## Sélectionner les phrases avec au moins une tox"
   ]
  },
  {
   "cell_type": "code",
   "execution_count": 14,
   "id": "scientific-actress",
   "metadata": {},
   "outputs": [],
   "source": [
    "for thisDoc in annotated_pymedext_documents :\n",
    "    list_id_sent_tox = []\n",
    "    for annQ in thisDoc.get_annotations(_type=\"QuickUMLS\"):\n",
    "        if annQ.source_ID not in list_id_sent_tox :\n",
    "            list_id_sent_tox.append(annQ.source_ID)\n",
    "\n",
    "    set_sent_tox = []        \n",
    "    for id_sent_tox in list_id_sent_tox :\n",
    "        annots = thisDoc.get_annotation_by_id(id_sent_tox)\n",
    "        annots.type = \"sentence_tox\""
   ]
  },
  {
   "cell_type": "markdown",
   "id": "cardiovascular-grill",
   "metadata": {},
   "source": [
    "## Sélectionner les phrases avec au moins un trigger"
   ]
  },
  {
   "cell_type": "code",
   "execution_count": 15,
   "id": "republican-brazilian",
   "metadata": {},
   "outputs": [],
   "source": [
    "for thisDoc in annotated_pymedext_documents :\n",
    "    list_id_sent_trigs = []\n",
    "    for annQ in thisDoc.get_annotations(_type=\"regex_triggers\"):\n",
    "        if annQ.source_ID not in list_id_sent_trigs :\n",
    "            list_id_sent_trigs.append(annQ.source_ID)\n",
    "\n",
    "    set_sent_tox = []        \n",
    "    for id_sent_trig in list_id_sent_trigs :\n",
    "        annots = thisDoc.get_annotation_by_id(id_sent_trig)\n",
    "        annots.type = \"sentence_triggers\""
   ]
  },
  {
   "cell_type": "markdown",
   "id": "comparative-cream",
   "metadata": {},
   "source": [
    "## 2) Dependency parser dans les phrases avec au moins une tox avec Stanza"
   ]
  },
  {
   "cell_type": "code",
   "execution_count": 16,
   "id": "loving-america",
   "metadata": {},
   "outputs": [
    {
     "name": "stderr",
     "output_type": "stream",
     "text": [
      "2022-04-07 14:07:05 INFO: Loading these models for language: fr (French):\n",
      "=======================\n",
      "| Processor | Package |\n",
      "-----------------------\n",
      "| tokenize  | gsd     |\n",
      "| mwt       | gsd     |\n",
      "| pos       | gsd     |\n",
      "| lemma     | gsd     |\n",
      "| depparse  | gsd     |\n",
      "=======================\n",
      "\n",
      "2022-04-07 14:07:05 INFO: Use device: gpu\n",
      "2022-04-07 14:07:05 INFO: Loading: tokenize\n",
      "2022-04-07 14:07:07 INFO: Loading: mwt\n",
      "2022-04-07 14:07:07 INFO: Loading: pos\n",
      "2022-04-07 14:07:07 INFO: Loading: lemma\n",
      "2022-04-07 14:07:08 INFO: Loading: depparse\n",
      "2022-04-07 14:07:08 INFO: Done loading processors!\n",
      "2022-04-07 14:07:08 INFO: Loading these models for language: fr (French):\n",
      "=======================\n",
      "| Processor | Package |\n",
      "-----------------------\n",
      "| tokenize  | gsd     |\n",
      "| mwt       | gsd     |\n",
      "| pos       | gsd     |\n",
      "| lemma     | gsd     |\n",
      "| depparse  | gsd     |\n",
      "=======================\n",
      "\n",
      "2022-04-07 14:07:08 INFO: Use device: gpu\n",
      "2022-04-07 14:07:08 INFO: Loading: tokenize\n",
      "2022-04-07 14:07:08 INFO: Loading: mwt\n",
      "2022-04-07 14:07:08 INFO: Loading: pos\n",
      "2022-04-07 14:07:08 INFO: Loading: lemma\n",
      "2022-04-07 14:07:08 INFO: Loading: depparse\n",
      "2022-04-07 14:07:09 INFO: Done loading processors!\n"
     ]
    }
   ],
   "source": [
    "stanzaparser_tox = StanzaAnnotator(['sentence_tox'], 'Stanza_tox', 'Stanza:v1')\n",
    "stanzaparser_triggers = StanzaAnnotator(['sentence_triggers'], 'Stanza_triggers', 'Stanza:v1')"
   ]
  },
  {
   "cell_type": "code",
   "execution_count": 17,
   "id": "mature-evans",
   "metadata": {},
   "outputs": [],
   "source": [
    "pipeline2 = Pipeline(pipeline = [stanzaparser_tox, stanzaparser_triggers])"
   ]
  },
  {
   "cell_type": "code",
   "execution_count": 18,
   "id": "discrete-praise",
   "metadata": {},
   "outputs": [],
   "source": [
    "annotated_docs2 = pipeline2.annotate(annotated_pymedext_documents)"
   ]
  },
  {
   "cell_type": "code",
   "execution_count": 19,
   "id": "later-importance",
   "metadata": {},
   "outputs": [],
   "source": [
    "annotated_pymedext_documents2 = [Document.from_dict(annotated_doc) for annotated_doc in annotated_docs2]"
   ]
  },
  {
   "cell_type": "code",
   "execution_count": 20,
   "id": "serious-ownership",
   "metadata": {},
   "outputs": [
    {
     "data": {
      "text/plain": [
       "pymedextcore.annotators.Relation"
      ]
     },
     "execution_count": 20,
     "metadata": {},
     "output_type": "execute_result"
    }
   ],
   "source": [
    "type(annotated_docs2[0])\n",
    "type(annotated_pymedext_documents2[0].annotations[0])\n",
    "type(annotated_pymedext_documents2[0].relations[0])"
   ]
  },
  {
   "cell_type": "code",
   "execution_count": 21,
   "id": "instant-venue",
   "metadata": {},
   "outputs": [],
   "source": [
    "# annotated_pymedext_documents2[0].annotations[7].to_dict()\n",
    "# annotated_pymedext_documents2[0].annotations[7].get_children_span()\n",
    "# for doc in annotated_pymedext_documents2 :\n",
    "#     for ann in doc.annotations :\n",
    "#         if ann.get_entities_children() :\n",
    "#             print(\"parent :\", ann.to_dict()[\"type\"])\n",
    "#             for child_ann in ann.get_entities_children() :\n",
    "#                 print(\"\\t child\", child_ann.to_dict()[\"type\"])\n",
    "#                 print('\\n',child_ann.to_dict() == ann.to_dict() )\n",
    "                \n",
    "            #print(\"\\n\")\n",
    "    #print(\"\\n\\n\")"
   ]
  },
  {
   "cell_type": "markdown",
   "id": "forty-bandwidth",
   "metadata": {},
   "source": [
    "## Restreindre les relations Stanza autour de la tox (quickumls pour le moment, TODO : triggers terms)"
   ]
  },
  {
   "cell_type": "markdown",
   "id": "crude-boxing",
   "metadata": {},
   "source": [
    "### Définitions de fonctions pour trouver tous les enfants des tox quickumls"
   ]
  },
  {
   "cell_type": "code",
   "execution_count": 22,
   "id": "japanese-school",
   "metadata": {},
   "outputs": [],
   "source": [
    "def select_stanza_ann_with_span(list_spans, tox_span) :\n",
    "    selected_spans = []\n",
    "    in_the_tox_expression = False # pour les tox de plusieurs mots\n",
    "    for span in list_spans :\n",
    "        if span[0] == tox_span[0]:\n",
    "            selected_spans.append(span)\n",
    "            if span[1] == tox_span[1]: # 1 seul mot dans la tox\n",
    "                break\n",
    "            else :\n",
    "                in_the_tox_expression = True\n",
    "        elif span[1] < tox_span[1] and in_the_tox_expression:\n",
    "            selected_spans.append(span)\n",
    "        elif span[1] == tox_span[1] and in_the_tox_expression:\n",
    "            selected_spans.append(span)\n",
    "            break\n",
    "    return selected_spans"
   ]
  },
  {
   "cell_type": "code",
   "execution_count": 23,
   "id": "brief-illness",
   "metadata": {},
   "outputs": [],
   "source": [
    "def mine_relations_recursivly(ID_of_ann, document, relations_list) :\n",
    "    if  len(document.get_relations(head_id = ID_of_ann)) == 0 :\n",
    "        #print(\"no\", document.get_annotation_by_id(ID_of_ann).value)\n",
    "        #print(\"relations_list if\", relations_list)\n",
    "        return(relations_list)\n",
    "    else :\n",
    "        #print(\"yes\", document.get_annotation_by_id(ID_of_ann).value)\n",
    "        thisRelations = [rel for rel in document.get_relations(head_id = ID_of_ann)]\n",
    "        for rel in thisRelations :\n",
    "            relations_list.append(rel)\n",
    "            ID_of_ann = rel.target\n",
    "            #print(\"relations_list else\", relations_list)\n",
    "            mine_relations_recursivly(ID_of_ann, document, relations_list)"
   ]
  },
  {
   "cell_type": "markdown",
   "id": "black-dialogue",
   "metadata": {},
   "source": [
    "#### Visualisation des relations "
   ]
  },
  {
   "cell_type": "code",
   "execution_count": 24,
   "id": "aerial-tuition",
   "metadata": {},
   "outputs": [],
   "source": [
    "annotated_pymedext_documents_toward_tox = [Document.from_dict(annotated_doc) for annotated_doc in annotated_docs2]\n",
    "for doc in annotated_pymedext_documents_toward_tox  :\n",
    "    list_span_annQ = []\n",
    "    quickumls_anns = doc.get_annotations(_type=\"QuickUMLS\")\n",
    "    for annQ in quickumls_anns:\n",
    "        list_span_annQ.append(annQ.span)\n",
    "    stanza_annots = doc.get_annotations(_type=\"Stanza_tox\")\n",
    "    dict_spans={}\n",
    "    for annS in stanza_annots :\n",
    "        dict_spans[annS.span] = annS.ID\n",
    "    list_of_lists_span_co_SQ = []\n",
    "    for Qspan in list_span_annQ :\n",
    "        list_of_lists_span_co_SQ.append(select_stanza_ann_with_span(list_spans=[key for key in dict_spans], tox_span=Qspan))\n",
    "    list_of_relations_list =[]\n",
    "    for list_span in list_of_lists_span_co_SQ :\n",
    "        for spanSQ in list_span :\n",
    "            relations_list = []\n",
    "            mine_relations_recursivly(ID_of_ann=dict_spans[spanSQ],document=doc, relations_list = relations_list)\n",
    "            list_of_relations_list.append(relations_list)\n",
    "    for rel_list in list_of_relations_list :\n",
    "        for rel in rel_list :\n",
    "            rel.type=\"toward_tox\"\n",
    "            ann_head = doc.get_annotation_by_id(rel.head)\n",
    "            ann_head.type = \"toward_tox\"\n",
    "            ann_target = doc.get_annotation_by_id(rel.target)\n",
    "            ann_target.type = \"toward_tox\"\n",
    "            if rel not in doc.relations :\n",
    "                doc.relations.append(rel)"
   ]
  },
  {
   "cell_type": "code",
   "execution_count": 25,
   "id": "selective-awareness",
   "metadata": {},
   "outputs": [
    {
     "name": "stdout",
     "output_type": "stream",
     "text": [
      "{'type': 'toward_tox', 'head': '039187ea-b67c-11ec-8d7c-0242ac110003', 'target': '03918772-b67c-11ec-8d7c-0242ac110003', 'source': 'Stanza:v1', 'source_ID': '013f86c2-b67c-11ec-8d7c-0242ac110003', 'attributes': {'deprel': 'det'}, 'ID': '03918ba0-b67c-11ec-8d7c-0242ac110003'}\n",
      "oesophagite\n",
      "une\n",
      "\n",
      "\n",
      "\n",
      "{'type': 'toward_tox', 'head': '039187ea-b67c-11ec-8d7c-0242ac110003', 'target': '03918858-b67c-11ec-8d7c-0242ac110003', 'source': 'Stanza:v1', 'source_ID': '013f86c2-b67c-11ec-8d7c-0242ac110003', 'attributes': {'deprel': 'amod'}, 'ID': '03918cae-b67c-11ec-8d7c-0242ac110003'}\n",
      "oesophagite\n",
      "peptique\n",
      "\n",
      "\n",
      "\n",
      "{'type': 'toward_tox', 'head': '0391893e-b67c-11ec-8d7c-0242ac110003', 'target': '039188d0-b67c-11ec-8d7c-0242ac110003', 'source': 'Stanza:v1', 'source_ID': '013f86c2-b67c-11ec-8d7c-0242ac110003', 'attributes': {'deprel': 'case'}, 'ID': '03918d30-b67c-11ec-8d7c-0242ac110003'}\n",
      "grade\n",
      "de\n",
      "\n",
      "\n",
      "\n",
      "{'type': 'toward_tox', 'head': '039187ea-b67c-11ec-8d7c-0242ac110003', 'target': '0391893e-b67c-11ec-8d7c-0242ac110003', 'source': 'Stanza:v1', 'source_ID': '013f86c2-b67c-11ec-8d7c-0242ac110003', 'attributes': {'deprel': 'nmod'}, 'ID': '03918dbc-b67c-11ec-8d7c-0242ac110003'}\n",
      "oesophagite\n",
      "grade\n",
      "\n",
      "\n",
      "\n",
      "{'type': 'toward_tox', 'head': '0391893e-b67c-11ec-8d7c-0242ac110003', 'target': '039189b6-b67c-11ec-8d7c-0242ac110003', 'source': 'Stanza:v1', 'source_ID': '013f86c2-b67c-11ec-8d7c-0242ac110003', 'attributes': {'deprel': 'nmod'}, 'ID': '03918e48-b67c-11ec-8d7c-0242ac110003'}\n",
      "grade\n",
      "2\n",
      "\n",
      "\n",
      "\n",
      "{'type': 'toward_tox', 'head': '039700f8-b67c-11ec-8d7c-0242ac110003', 'target': '0396fee6-b67c-11ec-8d7c-0242ac110003', 'source': 'Stanza:v1', 'source_ID': '013f876c-b67c-11ec-8d7c-0242ac110003', 'attributes': {'deprel': 'advmod'}, 'ID': '039701ca-b67c-11ec-8d7c-0242ac110003'}\n",
      "thrombopénie\n",
      "Pas\n",
      "\n",
      "\n",
      "\n",
      "{'type': 'toward_tox', 'head': '039700f8-b67c-11ec-8d7c-0242ac110003', 'target': '0397003a-b67c-11ec-8d7c-0242ac110003', 'source': 'Stanza:v1', 'source_ID': '013f876c-b67c-11ec-8d7c-0242ac110003', 'attributes': {'deprel': 'det'}, 'ID': '03970274-b67c-11ec-8d7c-0242ac110003'}\n",
      "thrombopénie\n",
      "de\n",
      "\n",
      "\n",
      "\n",
      "{'type': 'toward_tox', 'head': '039d31a8-b67c-11ec-8d7c-0242ac110003', 'target': '039d311c-b67c-11ec-8d7c-0242ac110003', 'source': 'Stanza:v1', 'source_ID': '013f87d0-b67c-11ec-8d7c-0242ac110003', 'attributes': {'deprel': 'det'}, 'ID': '039d361c-b67c-11ec-8d7c-0242ac110003'}\n",
      "alopécie\n",
      "une\n",
      "\n",
      "\n",
      "\n",
      "{'type': 'toward_tox', 'head': '039d31a8-b67c-11ec-8d7c-0242ac110003', 'target': '039d3234-b67c-11ec-8d7c-0242ac110003', 'source': 'Stanza:v1', 'source_ID': '013f87d0-b67c-11ec-8d7c-0242ac110003', 'attributes': {'deprel': 'amod'}, 'ID': '039d373e-b67c-11ec-8d7c-0242ac110003'}\n",
      "alopécie\n",
      "sévère\n",
      "\n",
      "\n",
      "\n",
      "{'type': 'toward_tox', 'head': '039d33b0-b67c-11ec-8d7c-0242ac110003', 'target': '039d32ac-b67c-11ec-8d7c-0242ac110003', 'source': 'Stanza:v1', 'source_ID': '013f87d0-b67c-11ec-8d7c-0242ac110003', 'attributes': {'deprel': 'cc'}, 'ID': '039d37ca-b67c-11ec-8d7c-0242ac110003'}\n",
      "amaigrissment\n",
      "et\n",
      "\n",
      "\n",
      "\n",
      "{'type': 'toward_tox', 'head': '039d33b0-b67c-11ec-8d7c-0242ac110003', 'target': '039d332e-b67c-11ec-8d7c-0242ac110003', 'source': 'Stanza:v1', 'source_ID': '013f87d0-b67c-11ec-8d7c-0242ac110003', 'attributes': {'deprel': 'det'}, 'ID': '039d3860-b67c-11ec-8d7c-0242ac110003'}\n",
      "amaigrissment\n",
      "un\n",
      "\n",
      "\n",
      "\n",
      "{'type': 'toward_tox', 'head': '039d31a8-b67c-11ec-8d7c-0242ac110003', 'target': '039d33b0-b67c-11ec-8d7c-0242ac110003', 'source': 'Stanza:v1', 'source_ID': '013f87d0-b67c-11ec-8d7c-0242ac110003', 'attributes': {'deprel': 'conj'}, 'ID': '039d38ec-b67c-11ec-8d7c-0242ac110003'}\n",
      "alopécie\n",
      "amaigrissment\n",
      "\n",
      "\n",
      "\n"
     ]
    }
   ],
   "source": [
    "for ann in annotated_pymedext_documents_toward_tox[0].get_relations(_type=\"toward_tox\") :\n",
    "    print(ann.to_dict())\n",
    "    print(annotated_pymedext_documents_toward_tox[0].get_annotation_by_id(ann.head).to_dict()[\"value\"])\n",
    "    print(annotated_pymedext_documents_toward_tox[0].get_annotation_by_id(ann.target).to_dict()[\"value\"])\n",
    "    print(\"\\n\\n\")"
   ]
  },
  {
   "cell_type": "markdown",
   "id": "similar-primary",
   "metadata": {},
   "source": [
    "##### To BRAT"
   ]
  },
  {
   "cell_type": "code",
   "execution_count": 26,
   "id": "intensive-export",
   "metadata": {},
   "outputs": [
    {
     "data": {
      "text/plain": [
       "1"
      ]
     },
     "execution_count": 26,
     "metadata": {},
     "output_type": "execute_result"
    }
   ],
   "source": [
    "brat.save_to_brat(list_of_documents = annotated_pymedext_documents_toward_tox,\n",
    "                  folder_path = cfg[\"brat_dirs\"][\"toward_tox\"],\n",
    "                  pym_ann_types=[\"QuickUMLS\", \"regex_grade\", \"regex_triggers\"],\n",
    "                  brat_entities_in_pym_types = [\"QuickUMLS\", \"regex_grade\", \"regex_triggers\"],\n",
    "                  brat_attributes ={\"QuickUMLS\" : [\"negation\", \"context\", \"hypothesis\"]},\n",
    "                  pym_rel_types = [\"toward_tox\", \"Stanza_triggers\"],\n",
    "                  brat_ents_of_rel_in_pym_att_values = {\"toward_tox\" : \"upos\", \"Stanza_triggers\": \"upos\" },\n",
    "                  brat_type_of_rel_in_pym_rel_att_values = {'toward_tox' : 'deprel', \"Stanza_triggers\": \"deprel\" },\n",
    "                  level_annot = {'toward_tox' : 1, 'Stanza_triggers': 2}\n",
    "                 )"
   ]
  },
  {
   "cell_type": "markdown",
   "id": "breathing-violence",
   "metadata": {},
   "source": [
    "![DEP](../images/22-04_MEDKIT.png)"
   ]
  },
  {
   "cell_type": "markdown",
   "id": "corporate-cause",
   "metadata": {},
   "source": [
    "### Définitions de fonctions pour confronter les spans stanza à ceux de quickumls et regex_grade"
   ]
  },
  {
   "cell_type": "markdown",
   "id": "satisfactory-locking",
   "metadata": {},
   "source": [
    "Ces fonctions nous permettent de relier directement les entités toxicité et grade"
   ]
  },
  {
   "cell_type": "code",
   "execution_count": 27,
   "id": "comfortable-receipt",
   "metadata": {},
   "outputs": [],
   "source": [
    "def creats_dict_span0(doc,ann_type = \"regex_grade\") :\n",
    "    dict_span = {}\n",
    "    list_int_ann = doc.get_annotations(_type = ann_type)\n",
    "    for ann in list_int_ann :\n",
    "        dict_span[ann.span[0]] = ann.ID\n",
    "    return dict_span"
   ]
  },
  {
   "cell_type": "code",
   "execution_count": 28,
   "id": "bizarre-savings",
   "metadata": {},
   "outputs": [],
   "source": [
    "def returns_tox_ann(doc, dict_span0, rel_list):\n",
    "    \"\"\"\n",
    "    \"\"\"\n",
    "    ann_ID = False\n",
    "    for rel in rel_list :\n",
    "        ann_span0 = doc.get_annotation_by_id(rel.head).span[0]\n",
    "        if ann_span0 in dict_span0 :\n",
    "            ann_ID =  dict_span0[ann_span0]\n",
    "            break\n",
    "    return ann_ID"
   ]
  },
  {
   "cell_type": "markdown",
   "id": "introductory-brooks",
   "metadata": {},
   "source": [
    "### Parcours des documents et ajouts de relations"
   ]
  },
  {
   "cell_type": "code",
   "execution_count": 29,
   "id": "understanding-anniversary",
   "metadata": {},
   "outputs": [],
   "source": [
    "for doc in annotated_pymedext_documents2:\n",
    "    list_span_annQ = []\n",
    "    quickumls_anns = doc.get_annotations(_type=\"QuickUMLS\")\n",
    "    for annQ in quickumls_anns:\n",
    "        list_span_annQ.append(annQ.span)\n",
    "    stanza_annots = doc.get_annotations(_type=\"Stanza_tox\")\n",
    "    dict_spans={}\n",
    "    for annS in stanza_annots :\n",
    "        dict_spans[annS.span] = annS.ID\n",
    "    list_of_lists_span_co_SQ = []\n",
    "    for Qspan in list_span_annQ :\n",
    "        list_of_lists_span_co_SQ.append(select_stanza_ann_with_span(list_spans=[key for key in dict_spans], tox_span=Qspan))\n",
    "    list_of_relations_list =[]\n",
    "    for list_span in list_of_lists_span_co_SQ :\n",
    "        for spanSQ in list_span :\n",
    "            relations_list = []\n",
    "            mine_relations_recursivly(ID_of_ann=dict_spans[spanSQ],document=doc, relations_list = relations_list)\n",
    "            list_of_relations_list.append(relations_list)\n",
    "    ## to onto \n",
    "    dict_quickumls_span0 = creats_dict_span0(doc, ann_type = \"QuickUMLS\") # to onto\n",
    "    dict_grade_span0 = creats_dict_span0(doc, ann_type = \"regex_grade\") # to onto pour le grade\n",
    "    for rel_list in list_of_relations_list :\n",
    "        if rel_list :\n",
    "            quickumls_ann_ID = returns_tox_ann(doc, dict_quickumls_span0, rel_list) # to onto\n",
    "            if not quickumls_ann_ID :\n",
    "                continue\n",
    "                #print(rel_list)\n",
    "                #for rel in rel_list :\n",
    "                    #print(\"\\t stanza : \", doc.get_annotation_by_id(rel.head).span[0])\n",
    "                    #print(\"\\t stanza : \", doc.get_annotation_by_id(rel.head).attributes[\"text\"])\n",
    "                    #print(\"\\t quickumls : \",dict_quickumls_span0.keys())\n",
    "                    #for key in dict_quickumls_span0 :\n",
    "                        #print(\"\\t\\t Quickumls :\")\n",
    "                        #print(\"\\t\\t\",key, doc.get_annotation_by_id(dict_quickumls_span0[key]).value)\n",
    "                        #print(\"\\t\\t\", key, doc.get_annotation_by_id(dict_quickumls_span0[key]).attributes[\"snippet\"])\n",
    "                    #print(\"\\n\")\n",
    "                #print(\"STOP \\n\\n\")\n",
    "            else :\n",
    "                #quickumls_ann = doc.get_annotation_by_id(quickumls_ann_ID)\n",
    "                for rel in rel_list :\n",
    "                    target_ann_span0 = doc.get_annotation_by_id(rel.target).to_dict()[\"span\"][0] \n",
    "                    if target_ann_span0 in dict_grade_span0 :\n",
    "                        grade_ann_ID = dict_grade_span0[target_ann_span0]\n",
    "                        ## On transforme le type des annotations en to_onto \n",
    "                        #grade_ann = doc.get_annotation_by_id(grade_ann_ID)\n",
    "                        #grade_ann.type = \"to_onto\"\n",
    "                        #quickumls_ann.type = \"to_onto\"\n",
    "                        attributes = {\"objProp\" : \"hasGrade\"}\n",
    "                        rel = Relation(head = quickumls_ann_ID,\n",
    "                                       target = grade_ann_ID,\n",
    "                                       type = \"to_onto\",\n",
    "                                       attributes = attributes,\n",
    "                                       source = 'Stanza_tox',\n",
    "                                       source_ID = rel.ID\n",
    "                                      )\n",
    "                        doc.relations.append(rel)\n",
    "            "
   ]
  },
  {
   "cell_type": "markdown",
   "id": "single-ambassador",
   "metadata": {},
   "source": [
    "##### Visualisation des relations :"
   ]
  },
  {
   "cell_type": "code",
   "execution_count": 30,
   "id": "nominated-district",
   "metadata": {},
   "outputs": [
    {
     "name": "stdout",
     "output_type": "stream",
     "text": [
      "{'type': 'to_onto', 'head': '014348ca-b67c-11ec-8d7c-0242ac110003', 'target': '01475442-b67c-11ec-8d7c-0242ac110003', 'source': 'Stanza_tox', 'source_ID': '03918dbc-b67c-11ec-8d7c-0242ac110003', 'attributes': {'objProp': 'hasGrade'}, 'ID': '03d95df4-b67c-11ec-8d7c-0242ac110003'}\n",
      "\n",
      "\n",
      "\n",
      "{'type': 'QuickUMLS', 'value': 'oesophagite', 'ngram': None, 'span': (24, 35), 'source': 'QuickUMLS:v1', 'source_ID': '013f86c2-b67c-11ec-8d7c-0242ac110003', 'isEntity': False, 'attributes': {'hypothesis': 'certain', 'context': 'patient', 'negation': 'aff', 'cui': 'C0014868', 'label': 'oesophagite', 'semtypes': ['T047'], 'score': 1.0, 'snippet': 'Le patient présente une oesophagite peptique de grade 2', 'snippet_span': (0, 55)}, 'ID': '014348ca-b67c-11ec-8d7c-0242ac110003'}\n",
      "\n",
      "\n",
      "{'type': 'regex_grade', 'value': 'grade 2', 'ngram': None, 'span': (48, 55), 'source': 'RegexMatcher:v1', 'source_ID': '014039d2-b67c-11ec-8d7c-0242ac110003', 'isEntity': True, 'attributes': {'version': 'v1', 'label': 'Grade', 'id_regexp': 'id_grade', 'snippet': 'Le patient présente une oesophagite peptique de grade 2.. Pas de thrombopénie.. Il présente cependant également une', 'hypothesis': 'certain', 'context': 'patient', 'negation': 'aff', 'num': '2', 'normalized_num': '2'}, 'ID': '01475442-b67c-11ec-8d7c-0242ac110003'}\n"
     ]
    }
   ],
   "source": [
    "for rel in annotated_pymedext_documents2[0].get_relations('to_onto'):\n",
    "    print(rel.to_dict())\n",
    "    print('\\n\\n')\n",
    "    print(annotated_pymedext_documents2[0].get_annotation_by_id(rel.head).to_dict())\n",
    "    print('\\n')\n",
    "    print(annotated_pymedext_documents2[0].get_annotation_by_id(rel.target).to_dict())"
   ]
  },
  {
   "cell_type": "markdown",
   "id": "progressive-liechtenstein",
   "metadata": {},
   "source": [
    "Maintenant, les entités tox et grade sont directement reliées (Je n'avais pas fait de visualisation Brat spécifique pour ça)"
   ]
  },
  {
   "cell_type": "markdown",
   "id": "celtic-mississippi",
   "metadata": {},
   "source": [
    "Pour la cellule ci-dessous, mettre l'ID d'une head de relations ci-dessus"
   ]
  },
  {
   "cell_type": "code",
   "execution_count": 29,
   "id": "supposed-visiting",
   "metadata": {},
   "outputs": [
    {
     "name": "stdout",
     "output_type": "stream",
     "text": [
      "{'type': 'to_onto', 'head': '41b12044-b5c3-11ec-acb9-0242ac110003', 'target': '4211e79e-b5c3-11ec-acb9-0242ac110003', 'source': 'Stanza_tox', 'source_ID': '5116c14c-b5c3-11ec-acb9-0242ac110003', 'attributes': {'objProp': 'hasGrade'}, 'ID': '5554ebf8-b5c3-11ec-acb9-0242ac110003'}\n",
      "{'type': 'QuickUMLS', 'value': 'oesophagite', 'ngram': None, 'span': (546, 557), 'source': 'QuickUMLS:v1', 'source_ID': '419f57e2-b5c3-11ec-acb9-0242ac110003', 'isEntity': False, 'attributes': {'hypothesis': 'certain', 'context': 'patient', 'negation': 'aff', 'cui': 'C0014868', 'label': 'oesophagite', 'semtypes': ['T047'], 'score': 1.0, 'snippet': ' La fibroscopie oeso-gastro-duodénale avait révélé  une oesophagite peptique de grade II et a permis l’exérèse d’un petit papillome du tiers supérieur de l’œsophage', 'snippet_span': (490, 654)}, 'ID': '41b12044-b5c3-11ec-acb9-0242ac110003'}\n",
      "{'type': 'regex_grade', 'value': 'grade II', 'ngram': None, 'span': (570, 578), 'source': 'RegexMatcher:v1', 'source_ID': '41a1edf4-b5c3-11ec-acb9-0242ac110003', 'isEntity': True, 'attributes': {'version': 'v1', 'label': 'Grade', 'id_regexp': 'id_grade', 'snippet': '-gastro-duodénale avait révélé  une oesophagite peptique de grade II et a permis l’exérèse d’un petit papillome du tiers supérie', 'hypothesis': 'certain', 'context': 'patient', 'negation': 'aff', 'num': 'II', 'normalized_num': '2'}, 'ID': '4211e79e-b5c3-11ec-acb9-0242ac110003'}\n"
     ]
    }
   ],
   "source": [
    "for rel in annotated_pymedext_documents2[0].get_relations(head_id=\"41b12044-b5c3-11ec-acb9-0242ac110003\"):\n",
    "    print(rel.to_dict())\n",
    "    print(annotated_pymedext_documents2[0].get_annotation_by_id(rel.head).to_dict())\n",
    "    print(annotated_pymedext_documents2[0].get_annotation_by_id(rel.target).to_dict())"
   ]
  },
  {
   "cell_type": "markdown",
   "id": "union-henry",
   "metadata": {},
   "source": [
    "# Pour exécuter les cellules ci-dessous, il est nécessaire d'avoir Owlready."
   ]
  },
  {
   "cell_type": "markdown",
   "id": "ancient-lawrence",
   "metadata": {},
   "source": [
    "## Owlready "
   ]
  },
  {
   "cell_type": "code",
   "execution_count": 29,
   "id": "mounted-authority",
   "metadata": {},
   "outputs": [],
   "source": [
    "CUI = PYM[\"CUI\"]\n",
    "onto = get_ontology(\"http://toto.org/\" + \"#\")\n",
    "with onto :\n",
    "    class X(PYM.Concept): pass\n",
    "    cui_class = CUI[\"C0014868\"]\n",
    "    ind1 = X()\n",
    "    ind1.is_a.append(cui_class)   "
   ]
  },
  {
   "cell_type": "markdown",
   "id": "ambient-passion",
   "metadata": {},
   "source": [
    "### Créer onto"
   ]
  },
  {
   "cell_type": "code",
   "execution_count": 30,
   "id": "internal-drive",
   "metadata": {},
   "outputs": [],
   "source": [
    "timestr = time.strftime(\"%Y%m%d-%H%M%S\")\n",
    "UMLS_CONCEPT = PYM[\"CUI\"]\n",
    "\n",
    "\n",
    "onto = get_ontology(\"http://OntoTox_vtest.org/\" + timestr + \"#\")\n",
    "\n",
    "with onto:\n",
    "    \n",
    "    \n",
    "    \n",
    "    # 1 Définition des classes :\n",
    "    class ChemotherapyToxicity(Thing): pass\n",
    "    \n",
    "    class Grade(Thing): pass\n",
    "    class Grade0(Grade): pass\n",
    "    class Grade1(Grade): pass\n",
    "    class Grade2(Grade): pass\n",
    "    class Grade3(Grade): pass\n",
    "    class Grade4(Grade): pass\n",
    "    class Grade5(Grade): pass\n",
    "    class GradeNull(Grade): pass\n",
    "    \n",
    "    #class MedTermPhenotype(Thing): pass\n",
    "    #class CTCAEPhenotype(Thing)\n",
    "    #class CUI(Thing): pass\n",
    "    \n",
    "    class Qualifier(Thing): pass\n",
    "    \n",
    "    class StartDate(Thing): pass\n",
    "    class RelativeStartDate(StartDate): pass\n",
    "    class AbsoluteStartDate(StartDate): pass\n",
    "    \n",
    "    AllDisjoint([RelativeStartDate, AbsoluteStartDate])\n",
    "    \n",
    "    class Drug(Thing): pass\n",
    "    \n",
    "    AllDisjoint([ChemotherapyToxicity, Qualifier, StartDate, Drug])\n",
    "    \n",
    "    \n",
    "    # 2 Définition des propriétés\n",
    "    class hasGrade(ChemotherapyToxicity >> Grade, FunctionalProperty): pass\n",
    "    class isHypothetical(ChemotherapyToxicity >> bool, FunctionalProperty): pass\n",
    "    class isNegative(ChemotherapyToxicity >> bool, FunctionalProperty): pass\n",
    "    class concernsPatient(ChemotherapyToxicity >> bool, FunctionalProperty): pass\n",
    "    class hasValueInText(ChemotherapyToxicity >> str, FunctionalProperty): pass\n",
    "    #class hasCUI(ChemotherapyToxicity >> CUI, FunctionalProperty): pass\n",
    "    class associatedWithTreatment(ChemotherapyToxicity >> Drug): pass\n",
    "    class hasRelativeStartDate(ChemotherapyToxicity >> RelativeStartDate): pass\n",
    "    class hasAbsoluteStartDate(ChemotherapyToxicity >> AbsoluteStartDate): pass\n",
    "    class isHypothetical(Grade >> bool, FunctionalProperty): pass\n",
    "    class isNegative(Grade >> bool, FunctionalProperty): pass\n",
    "    class concernsPatient(Grade >> bool, FunctionalProperty): pass\n",
    "    class hasValueInText(Grade >> str, FunctionalProperty): pass\n",
    "\n",
    "timestr = time.strftime(\"%Y%m%d-%H%M%S\")    \n",
    "path_owl = \"ontologies/\"\n",
    "name_owl = timestr + \"_empty.owl\"    \n",
    "onto.save(path_owl + name_owl)\n"
   ]
  },
  {
   "cell_type": "markdown",
   "id": "outer-contract",
   "metadata": {},
   "source": [
    "### Remplir onto avec collection de docs "
   ]
  },
  {
   "cell_type": "code",
   "execution_count": 31,
   "id": "compatible-three",
   "metadata": {},
   "outputs": [],
   "source": [
    "onto = get_ontology(path_owl + name_owl).load()\n",
    "with onto :\n",
    "    # 1er parcours : création des individus tox\n",
    "    for doc in annotated_pymedext_documents2:\n",
    "        anns_tox_quickumls = doc.get_annotations(_type=\"QuickUMLS\")\n",
    "        for ann_tox in anns_tox_quickumls :\n",
    "            # classe concept UMLS\n",
    "            cui_code = ann_tox.attributes[\"cui\"]\n",
    "            cui_label = ann_tox.attributes[\"label\"]\n",
    "            cui_class = UMLS_CONCEPT[cui_code]\n",
    "            # classe toxicité\n",
    "            tox_hyp = ann_tox.attributes[\"hypothesis\"] == \"hypothesis\"\n",
    "            tox_neg = ann_tox.attributes[\"negation\"] == \"neg\"\n",
    "            tox_pat = ann_tox.attributes[\"context\"] == \"patient\"\n",
    "            tox_value = ann_tox.value\n",
    "            name_ind_tox = ann_tox.ID\n",
    "            # L'individu tox instancie les deux classes\n",
    "            name_ind_tox = ChemotherapyToxicity(name_ind_tox,\n",
    "                                               isHypothetical = tox_hyp,\n",
    "                                               isNegative = tox_neg,\n",
    "                                               concernsPatient = tox_pat,\n",
    "                                               hasValueInText = tox_value)\n",
    "            name_ind_tox.is_a.append(cui_class)\n",
    "            #name_ind_tox = cui_class()\n",
    "            name_ind_tox.label.append(tox_value)\n",
    "             \n",
    "            \n",
    "timestr = time.strftime(\"%Y%m%d-%H%M%S\")    \n",
    "path_owl = \"ontologies/\"\n",
    "name_owl = timestr + \"_cui.owl\"    \n",
    "onto.save(path_owl + name_owl)"
   ]
  },
  {
   "cell_type": "code",
   "execution_count": 32,
   "id": "pleasant-priority",
   "metadata": {},
   "outputs": [
    {
     "name": "stdout",
     "output_type": "stream",
     "text": [
      "20210503-162309_empty.c429913e-ac2b-11eb-acdd-0242ac110002\n",
      "20210503-162309_empty.c4cc32a4-ac2b-11eb-acdd-0242ac110002\n",
      "20210503-162309_empty.c5cd1452-ac2b-11eb-acdd-0242ac110002\n",
      "20210503-162309_empty.c5cd14c0-ac2b-11eb-acdd-0242ac110002\n",
      "20210503-162309_empty.c5cd151a-ac2b-11eb-acdd-0242ac110002\n",
      "20210503-162309_empty.c5d518fa-ac2b-11eb-acdd-0242ac110002\n",
      "20210503-162309_empty.c5d51a62-ac2b-11eb-acdd-0242ac110002\n",
      "20210503-162309_empty.c5d51ae4-ac2b-11eb-acdd-0242ac110002\n",
      "20210503-162309_empty.c5d51ae4-ac2b-11eb-acdd-0242ac110002\n",
      "20210503-162309_empty.c5d51bb6-ac2b-11eb-acdd-0242ac110002\n",
      "20210503-162309_empty.c6a29956-ac2b-11eb-acdd-0242ac110002\n",
      "20210503-162309_empty.c6c2099e-ac2b-11eb-acdd-0242ac110002\n",
      "20210503-162309_empty.c6c56e54-ac2b-11eb-acdd-0242ac110002\n",
      "20210503-162309_empty.c6c56e54-ac2b-11eb-acdd-0242ac110002\n",
      "20210503-162309_empty.c6c56f8a-ac2b-11eb-acdd-0242ac110002\n",
      "20210503-162309_empty.c6c94bfa-ac2b-11eb-acdd-0242ac110002\n",
      "20210503-162309_empty.c9bcbd38-ac2b-11eb-acdd-0242ac110002\n",
      "20210503-162309_empty.ca20303e-ac2b-11eb-acdd-0242ac110002\n",
      "20210503-162309_empty.cafb0484-ac2b-11eb-acdd-0242ac110002\n",
      "20210503-162309_empty.cb027f98-ac2b-11eb-acdd-0242ac110002\n",
      "20210503-162309_empty.cb313cca-ac2b-11eb-acdd-0242ac110002\n",
      "20210503-162309_empty.cbcb86d6-ac2b-11eb-acdd-0242ac110002\n",
      "20210503-162309_empty.cd949a66-ac2b-11eb-acdd-0242ac110002\n",
      "20210503-162309_empty.cd949a66-ac2b-11eb-acdd-0242ac110002\n",
      "20210503-162309_empty.ce245192-ac2b-11eb-acdd-0242ac110002\n",
      "20210503-162309_empty.ce253882-ac2b-11eb-acdd-0242ac110002\n",
      "20210503-162309_empty.ce2756d0-ac2b-11eb-acdd-0242ac110002\n",
      "20210503-162309_empty.ce3bd2ae-ac2b-11eb-acdd-0242ac110002\n",
      "20210503-162309_empty.d2605a26-ac2b-11eb-acdd-0242ac110002\n"
     ]
    }
   ],
   "source": [
    "dict_class_grade = {'0': 'Grade0',\n",
    "                  '1': 'Grade1',\n",
    "                  '2': 'Grade2',\n",
    "                  '3': 'Grade3',\n",
    "                  '4': 'Grade4',\n",
    "                  '5': 'Grade5',\n",
    "                  'null':'GradeNull'}\n",
    "\n",
    "onto = get_ontology(path_owl + name_owl).load()\n",
    "with onto :\n",
    "    # 2ème parcours pour les relations\n",
    "    for doc in annotated_pymedext_documents2:\n",
    "        relations_tox = doc.get_relations(_type=\"to_onto\")\n",
    "        for rel in relations_tox :\n",
    "            if rel.attributes[\"objProp\"] == \"hasGrade\":\n",
    "                # créer les individus grades\n",
    "                ann_grade = doc.get_annotation_by_id(rel.target)\n",
    "                ClassGrade = onto[dict_class_grade[ann_grade.attributes[\"normalized_num\"]]]\n",
    "                grade_hyp = ann_grade.attributes[\"hypothesis\"] == \"hypothesis\"\n",
    "                grade_neg = ann_grade.attributes[\"negation\"] == \"neg\"\n",
    "                grade_pat = ann_grade.attributes[\"context\"] == \"patient\"\n",
    "                grade_value = ann_grade.value\n",
    "                name_ind_grade = ann_grade.ID\n",
    "                name_ind_grade = ClassGrade(name_ind_grade,\n",
    "                                          isHypothetical = grade_hyp,\n",
    "                                          isNegative = grade_neg,\n",
    "                                          concernsPatient = grade_pat,\n",
    "                                          hasValueInText = grade_value)\n",
    "                ann_tox_ID = doc.get_annotation_by_id(rel.head).to_dict()[\"ID\"]\n",
    "                name_ind_tox = getattr(onto, ann_tox_ID)\n",
    "                #print(getattr(onto, ann_tox_ID))\n",
    "                #ind = getattr(onto, ann_tox_ID)\n",
    "                #print(ind)\n",
    "                #ind.hasGrad(name_ind_grad)\n",
    "                hasGrade[name_ind_tox].append(name_ind_grade)\n",
    "                name_ind_grade.label.append(grade_value)\n",
    "            \n",
    "timestr = time.strftime(\"%Y%m%d-%H%M%S\")    \n",
    "path_owl = \"ontologies/\"\n",
    "name_owl = timestr + \"_grade.owl\"    \n",
    "onto.save(path_owl + name_owl)"
   ]
  }
 ],
 "metadata": {
  "kernelspec": {
   "display_name": "Python 3",
   "language": "python",
   "name": "python3"
  },
  "language_info": {
   "codemirror_mode": {
    "name": "ipython",
    "version": 3
   },
   "file_extension": ".py",
   "mimetype": "text/x-python",
   "name": "python",
   "nbconvert_exporter": "python",
   "pygments_lexer": "ipython3",
   "version": "3.7.10"
  }
 },
 "nbformat": 4,
 "nbformat_minor": 5
}
