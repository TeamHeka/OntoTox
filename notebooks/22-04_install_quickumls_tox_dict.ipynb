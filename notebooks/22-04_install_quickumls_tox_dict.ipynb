{
 "cells": [
  {
   "cell_type": "markdown",
   "id": "artistic-greenhouse",
   "metadata": {},
   "source": [
    "# Utiliser QuickUMLS sur un dictionnaire de toxicités"
   ]
  },
  {
   "cell_type": "markdown",
   "id": "computational-breath",
   "metadata": {},
   "source": [
    "## Installation de quickumls avec pip :"
   ]
  },
  {
   "cell_type": "code",
   "execution_count": null,
   "id": "confident-tragedy",
   "metadata": {},
   "outputs": [],
   "source": [
    "#%pip install quickumls"
   ]
  },
  {
   "cell_type": "markdown",
   "id": "found-ordinary",
   "metadata": {},
   "source": [
    "## Générer un dossier QuickUMLS filtré sur les toxicités"
   ]
  },
  {
   "cell_type": "markdown",
   "id": "charitable-brass",
   "metadata": {},
   "source": [
    "Dans le dossier \"MRCONSO_MRSTY_for_quickumls\" se trouvent deux fichiers au format RRF, qui vont nous permettre de générer un dossier utilisé par quickumls.\n",
    "C'est le chemin vers ce dossier qu'il faudra mettre dans le fichier de configuration au niveau de \"quickumls\".\n",
    "Ces fichiers ont été constuits en parsant des terminologies sur les toxicités (CTCAE, WHOART). "
   ]
  },
  {
   "cell_type": "code",
   "execution_count": null,
   "id": "adopted-prediction",
   "metadata": {},
   "outputs": [],
   "source": [
    "#%python -m quickumls.install -L -U -E FRE MRCONSO_MRSTY_for_quickumls/ <chemin_vers_le_dossier_qui_contiendra_les_données_de_quickumls>"
   ]
  }
 ],
 "metadata": {
  "kernelspec": {
   "display_name": "Python 3",
   "language": "python",
   "name": "python3"
  },
  "language_info": {
   "codemirror_mode": {
    "name": "ipython",
    "version": 3
   },
   "file_extension": ".py",
   "mimetype": "text/x-python",
   "name": "python",
   "nbconvert_exporter": "python",
   "pygments_lexer": "ipython3",
   "version": "3.7.10"
  }
 },
 "nbformat": 4,
 "nbformat_minor": 5
}
